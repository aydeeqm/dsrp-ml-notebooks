{
 "cells": [
  {
   "cell_type": "code",
   "execution_count": 2,
   "id": "3072d82e-ee70-4ec8-b45a-5470f84cc4e8",
   "metadata": {},
   "outputs": [],
   "source": [
    "import pandas as pd\n",
    "import numpy as np"
   ]
  },
  {
   "cell_type": "code",
   "execution_count": 1,
   "id": "536c0eec-ba31-459a-8dc3-adc89b4bfe13",
   "metadata": {},
   "outputs": [
    {
     "name": "stdout",
     "output_type": "stream",
     "text": [
      "attrs==23.2.0\n",
      "Automat==22.10.0\n",
      "Babel==2.10.3\n",
      "bcc==0.29.1\n",
      "bcrypt==3.2.2\n",
      "blinker==1.7.0\n",
      "boto3==1.34.46\n",
      "botocore==1.34.46\n",
      "certifi==2023.11.17\n",
      "chardet==5.2.0\n",
      "click==8.1.6\n",
      "cloud-init==24.4.1\n",
      "colorama==0.4.6\n",
      "command-not-found==0.3\n",
      "configobj==5.0.8\n",
      "constantly==23.10.4\n",
      "cryptography==41.0.7\n",
      "dbus-python==1.3.2\n",
      "distro==1.9.0\n",
      "distro-info==1.7+build1\n",
      "httplib2==0.20.4\n",
      "hyperlink==21.0.0\n",
      "idna==3.6\n",
      "incremental==22.10.0\n",
      "Jinja2==3.1.2\n",
      "jmespath==1.0.1\n",
      "jsonpatch==1.32\n",
      "jsonpointer==2.0\n",
      "jsonschema==4.10.3\n",
      "launchpadlib==1.11.0\n",
      "lazr.restfulclient==0.14.6\n",
      "lazr.uri==1.0.6\n",
      "markdown-it-py==3.0.0\n",
      "MarkupSafe==2.1.5\n",
      "mdurl==0.1.2\n",
      "netaddr==0.8.0\n",
      "netifaces==0.11.0\n",
      "oauthlib==3.2.2\n",
      "packaging==24.0\n",
      "pexpect==4.9.0\n",
      "ptyprocess==0.7.0\n",
      "pyasn1==0.4.8\n",
      "pyasn1-modules==0.2.8\n",
      "Pygments==2.17.2\n",
      "PyGObject==3.48.2\n",
      "PyHamcrest==2.1.0\n",
      "PyJWT==2.7.0\n",
      "pyOpenSSL==23.2.0\n",
      "pyparsing==3.1.1\n",
      "pyparted==3.12.0\n",
      "pyrsistent==0.20.0\n",
      "pyserial==3.5\n",
      "python-apt==2.7.7+ubuntu4\n",
      "python-dateutil==2.8.2\n",
      "python-debian==0.1.49+ubuntu2\n",
      "python-magic==0.4.27\n",
      "pytz==2024.1\n",
      "PyYAML==6.0.1\n",
      "requests==2.31.0\n",
      "rich==13.7.1\n",
      "s3transfer==0.10.1\n",
      "service-identity==24.1.0\n",
      "six==1.16.0\n",
      "sos==4.8.2\n",
      "ssh-import-id==5.11\n",
      "systemd-python==235\n",
      "Twisted==24.3.0\n",
      "typing_extensions==4.10.0\n",
      "ubuntu-pro-client==8001\n",
      "ufw==0.36.2\n",
      "unattended-upgrades==0.1\n",
      "urllib3==2.0.7\n",
      "wadllib==1.3.6\n",
      "WALinuxAgent==2.9.1.1\n",
      "zope.interface==6.1\n"
     ]
    }
   ],
   "source": [
    "!pip freeze"
   ]
  },
  {
   "cell_type": "code",
   "execution_count": null,
   "id": "593995e6-dc1f-49d9-8881-2f2e09d9abe2",
   "metadata": {},
   "outputs": [],
   "source": []
  }
 ],
 "metadata": {
  "kernelspec": {
   "display_name": "Python 3 (ipykernel)",
   "language": "python",
   "name": "python3"
  },
  "language_info": {
   "codemirror_mode": {
    "name": "ipython",
    "version": 3
   },
   "file_extension": ".py",
   "mimetype": "text/x-python",
   "name": "python",
   "nbconvert_exporter": "python",
   "pygments_lexer": "ipython3",
   "version": "3.11.13"
  }
 },
 "nbformat": 4,
 "nbformat_minor": 5
}
